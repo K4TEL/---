{
 "cells": [
  {
   "cell_type": "code",
   "execution_count": 1,
   "metadata": {
    "ExecuteTime": {
     "end_time": "2021-11-28T10:54:34.220827Z",
     "start_time": "2021-11-28T10:54:33.997841Z"
    }
   },
   "outputs": [
    {
     "data": {
      "text/html": [
       "<div>\n",
       "<style scoped>\n",
       "    .dataframe tbody tr th:only-of-type {\n",
       "        vertical-align: middle;\n",
       "    }\n",
       "\n",
       "    .dataframe tbody tr th {\n",
       "        vertical-align: top;\n",
       "    }\n",
       "\n",
       "    .dataframe thead th {\n",
       "        text-align: right;\n",
       "    }\n",
       "</style>\n",
       "<table border=\"1\" class=\"dataframe\">\n",
       "  <thead>\n",
       "    <tr style=\"text-align: right;\">\n",
       "      <th></th>\n",
       "      <th>Date</th>\n",
       "      <th>Meantemp</th>\n",
       "      <th>Humidity</th>\n",
       "      <th>Wind_Speed</th>\n",
       "      <th>Meanpressure</th>\n",
       "    </tr>\n",
       "  </thead>\n",
       "  <tbody>\n",
       "    <tr>\n",
       "      <th>0</th>\n",
       "      <td>2013-01-01</td>\n",
       "      <td>10.0</td>\n",
       "      <td>84.5</td>\n",
       "      <td>0.0</td>\n",
       "      <td>1015.6666666666666</td>\n",
       "    </tr>\n",
       "    <tr>\n",
       "      <th>1</th>\n",
       "      <td>2013-01-02</td>\n",
       "      <td>7.4</td>\n",
       "      <td>92.0</td>\n",
       "      <td>2.98</td>\n",
       "      <td>1017.8</td>\n",
       "    </tr>\n",
       "    <tr>\n",
       "      <th>2</th>\n",
       "      <td>2013-01-03</td>\n",
       "      <td>7.166666666666667</td>\n",
       "      <td>87.0</td>\n",
       "      <td>4.633333333333334</td>\n",
       "      <td>1018.6666666666666</td>\n",
       "    </tr>\n",
       "    <tr>\n",
       "      <th>3</th>\n",
       "      <td>2013-01-04</td>\n",
       "      <td>8.666666666666666</td>\n",
       "      <td>71.33333333333333</td>\n",
       "      <td>1.2333333333333334</td>\n",
       "      <td>1017.1666666666666</td>\n",
       "    </tr>\n",
       "    <tr>\n",
       "      <th>4</th>\n",
       "      <td>2013-01-05</td>\n",
       "      <td>6.0</td>\n",
       "      <td>86.83333333333333</td>\n",
       "      <td>3.6999999999999997</td>\n",
       "      <td>1016.5</td>\n",
       "    </tr>\n",
       "  </tbody>\n",
       "</table>\n",
       "</div>"
      ],
      "text/plain": [
       "         Date           Meantemp           Humidity          Wind_Speed  \\\n",
       "0  2013-01-01               10.0               84.5                 0.0   \n",
       "1  2013-01-02                7.4               92.0                2.98   \n",
       "2  2013-01-03  7.166666666666667               87.0   4.633333333333334   \n",
       "3  2013-01-04  8.666666666666666  71.33333333333333  1.2333333333333334   \n",
       "4  2013-01-05                6.0  86.83333333333333  3.6999999999999997   \n",
       "\n",
       "         Meanpressure  \n",
       "0  1015.6666666666666  \n",
       "1              1017.8  \n",
       "2  1018.6666666666666  \n",
       "3  1017.1666666666666  \n",
       "4              1016.5  "
      ]
     },
     "execution_count": 1,
     "metadata": {},
     "output_type": "execute_result"
    }
   ],
   "source": [
    "import pandas as pd\n",
    "import numpy as np\n",
    "import seaborn as sns\n",
    "from matplotlib import pyplot as plt\n",
    "\n",
    "dataset = pd.read_excel('Version 1.xlsx')\n",
    "columns = [n.title() for n in dataset.columns.str.split(',')[0]]\n",
    "dataset = dataset.iloc[:,0].str.split(',', expand = True)\n",
    "dataset.columns = columns\n",
    "dataset.head()"
   ]
  },
  {
   "cell_type": "markdown",
   "metadata": {},
   "source": [
    "## Sorting by date"
   ]
  },
  {
   "cell_type": "code",
   "execution_count": 2,
   "metadata": {
    "ExecuteTime": {
     "end_time": "2021-11-28T10:54:34.284831Z",
     "start_time": "2021-11-28T10:54:34.226834Z"
    }
   },
   "outputs": [
    {
     "data": {
      "text/html": [
       "<div>\n",
       "<style scoped>\n",
       "    .dataframe tbody tr th:only-of-type {\n",
       "        vertical-align: middle;\n",
       "    }\n",
       "\n",
       "    .dataframe tbody tr th {\n",
       "        vertical-align: top;\n",
       "    }\n",
       "\n",
       "    .dataframe thead th {\n",
       "        text-align: right;\n",
       "    }\n",
       "</style>\n",
       "<table border=\"1\" class=\"dataframe\">\n",
       "  <thead>\n",
       "    <tr style=\"text-align: right;\">\n",
       "      <th></th>\n",
       "      <th>Date</th>\n",
       "      <th>Meantemp</th>\n",
       "      <th>Humidity</th>\n",
       "      <th>Wind_Speed</th>\n",
       "      <th>Meanpressure</th>\n",
       "    </tr>\n",
       "  </thead>\n",
       "  <tbody>\n",
       "    <tr>\n",
       "      <th>0</th>\n",
       "      <td>2013-01-01</td>\n",
       "      <td>10.0</td>\n",
       "      <td>84.5</td>\n",
       "      <td>0.0</td>\n",
       "      <td>1015.6666666666666</td>\n",
       "    </tr>\n",
       "    <tr>\n",
       "      <th>1</th>\n",
       "      <td>2013-01-02</td>\n",
       "      <td>7.4</td>\n",
       "      <td>92.0</td>\n",
       "      <td>2.98</td>\n",
       "      <td>1017.8</td>\n",
       "    </tr>\n",
       "    <tr>\n",
       "      <th>2</th>\n",
       "      <td>2013-01-03</td>\n",
       "      <td>7.166666666666667</td>\n",
       "      <td>87.0</td>\n",
       "      <td>4.633333333333334</td>\n",
       "      <td>1018.6666666666666</td>\n",
       "    </tr>\n",
       "    <tr>\n",
       "      <th>3</th>\n",
       "      <td>2013-01-04</td>\n",
       "      <td>8.666666666666666</td>\n",
       "      <td>71.33333333333333</td>\n",
       "      <td>1.2333333333333334</td>\n",
       "      <td>1017.1666666666666</td>\n",
       "    </tr>\n",
       "    <tr>\n",
       "      <th>4</th>\n",
       "      <td>2013-01-05</td>\n",
       "      <td>6.0</td>\n",
       "      <td>86.83333333333333</td>\n",
       "      <td>3.6999999999999997</td>\n",
       "      <td>1016.5</td>\n",
       "    </tr>\n",
       "    <tr>\n",
       "      <th>...</th>\n",
       "      <td>...</td>\n",
       "      <td>...</td>\n",
       "      <td>...</td>\n",
       "      <td>...</td>\n",
       "      <td>...</td>\n",
       "    </tr>\n",
       "    <tr>\n",
       "      <th>1467</th>\n",
       "      <td>2016-12-28</td>\n",
       "      <td>17.217391304347824</td>\n",
       "      <td>68.04347826086956</td>\n",
       "      <td>3.547826086956522</td>\n",
       "      <td>1015.5652173913044</td>\n",
       "    </tr>\n",
       "    <tr>\n",
       "      <th>1468</th>\n",
       "      <td>2016-12-29</td>\n",
       "      <td>15.238095238095237</td>\n",
       "      <td>87.85714285714286</td>\n",
       "      <td>6.0</td>\n",
       "      <td>1016.9047619047619</td>\n",
       "    </tr>\n",
       "    <tr>\n",
       "      <th>1469</th>\n",
       "      <td>2016-12-30</td>\n",
       "      <td>14.095238095238095</td>\n",
       "      <td>89.66666666666667</td>\n",
       "      <td>6.266666666666667</td>\n",
       "      <td>1017.9047619047619</td>\n",
       "    </tr>\n",
       "    <tr>\n",
       "      <th>1470</th>\n",
       "      <td>2016-12-31</td>\n",
       "      <td>15.052631578947368</td>\n",
       "      <td>87.0</td>\n",
       "      <td>7.325</td>\n",
       "      <td>1016.1</td>\n",
       "    </tr>\n",
       "    <tr>\n",
       "      <th>1471</th>\n",
       "      <td>2017-01-01</td>\n",
       "      <td>10.0</td>\n",
       "      <td>100.0</td>\n",
       "      <td>0.0</td>\n",
       "      <td>1016.0</td>\n",
       "    </tr>\n",
       "  </tbody>\n",
       "</table>\n",
       "<p>1472 rows × 5 columns</p>\n",
       "</div>"
      ],
      "text/plain": [
       "            Date            Meantemp           Humidity          Wind_Speed  \\\n",
       "0     2013-01-01                10.0               84.5                 0.0   \n",
       "1     2013-01-02                 7.4               92.0                2.98   \n",
       "2     2013-01-03   7.166666666666667               87.0   4.633333333333334   \n",
       "3     2013-01-04   8.666666666666666  71.33333333333333  1.2333333333333334   \n",
       "4     2013-01-05                 6.0  86.83333333333333  3.6999999999999997   \n",
       "...          ...                 ...                ...                 ...   \n",
       "1467  2016-12-28  17.217391304347824  68.04347826086956   3.547826086956522   \n",
       "1468  2016-12-29  15.238095238095237  87.85714285714286                 6.0   \n",
       "1469  2016-12-30  14.095238095238095  89.66666666666667   6.266666666666667   \n",
       "1470  2016-12-31  15.052631578947368               87.0               7.325   \n",
       "1471  2017-01-01                10.0              100.0                 0.0   \n",
       "\n",
       "            Meanpressure  \n",
       "0     1015.6666666666666  \n",
       "1                 1017.8  \n",
       "2     1018.6666666666666  \n",
       "3     1017.1666666666666  \n",
       "4                 1016.5  \n",
       "...                  ...  \n",
       "1467  1015.5652173913044  \n",
       "1468  1016.9047619047619  \n",
       "1469  1017.9047619047619  \n",
       "1470              1016.1  \n",
       "1471              1016.0  \n",
       "\n",
       "[1472 rows x 5 columns]"
      ]
     },
     "execution_count": 2,
     "metadata": {},
     "output_type": "execute_result"
    }
   ],
   "source": [
    "dataset.sort_values('Date')"
   ]
  },
  {
   "cell_type": "markdown",
   "metadata": {},
   "source": [
    "## Dataset information"
   ]
  },
  {
   "cell_type": "code",
   "execution_count": 3,
   "metadata": {
    "ExecuteTime": {
     "end_time": "2021-11-28T10:54:34.316843Z",
     "start_time": "2021-11-28T10:54:34.289835Z"
    }
   },
   "outputs": [
    {
     "name": "stdout",
     "output_type": "stream",
     "text": [
      "<class 'pandas.core.frame.DataFrame'>\n",
      "RangeIndex: 1472 entries, 0 to 1471\n",
      "Data columns (total 5 columns):\n",
      " #   Column        Non-Null Count  Dtype \n",
      "---  ------        --------------  ----- \n",
      " 0   Date          1472 non-null   object\n",
      " 1   Meantemp      1472 non-null   object\n",
      " 2   Humidity      1470 non-null   object\n",
      " 3   Wind_Speed    1470 non-null   object\n",
      " 4   Meanpressure  1470 non-null   object\n",
      "dtypes: object(5)\n",
      "memory usage: 57.6+ KB\n"
     ]
    }
   ],
   "source": [
    "dataset.info()"
   ]
  },
  {
   "cell_type": "code",
   "execution_count": 4,
   "metadata": {
    "ExecuteTime": {
     "end_time": "2021-11-28T10:54:34.411830Z",
     "start_time": "2021-11-28T10:54:34.325833Z"
    },
    "scrolled": true
   },
   "outputs": [
    {
     "data": {
      "text/html": [
       "<div>\n",
       "<style scoped>\n",
       "    .dataframe tbody tr th:only-of-type {\n",
       "        vertical-align: middle;\n",
       "    }\n",
       "\n",
       "    .dataframe tbody tr th {\n",
       "        vertical-align: top;\n",
       "    }\n",
       "\n",
       "    .dataframe thead th {\n",
       "        text-align: right;\n",
       "    }\n",
       "</style>\n",
       "<table border=\"1\" class=\"dataframe\">\n",
       "  <thead>\n",
       "    <tr style=\"text-align: right;\">\n",
       "      <th></th>\n",
       "      <th>Date</th>\n",
       "      <th>Meantemp</th>\n",
       "      <th>Humidity</th>\n",
       "      <th>Wind_Speed</th>\n",
       "      <th>Meanpressure</th>\n",
       "    </tr>\n",
       "  </thead>\n",
       "  <tbody>\n",
       "    <tr>\n",
       "      <th>count</th>\n",
       "      <td>1472</td>\n",
       "      <td>1472</td>\n",
       "      <td>1470</td>\n",
       "      <td>1470</td>\n",
       "      <td>1470</td>\n",
       "    </tr>\n",
       "    <tr>\n",
       "      <th>unique</th>\n",
       "      <td>1462</td>\n",
       "      <td>621</td>\n",
       "      <td>897</td>\n",
       "      <td>772</td>\n",
       "      <td>626</td>\n",
       "    </tr>\n",
       "    <tr>\n",
       "      <th>top</th>\n",
       "      <td>2013-01-24</td>\n",
       "      <td>31.0</td>\n",
       "      <td>65.5</td>\n",
       "      <td>0.0</td>\n",
       "      <td>1016.0</td>\n",
       "    </tr>\n",
       "    <tr>\n",
       "      <th>freq</th>\n",
       "      <td>2</td>\n",
       "      <td>18</td>\n",
       "      <td>9</td>\n",
       "      <td>26</td>\n",
       "      <td>13</td>\n",
       "    </tr>\n",
       "  </tbody>\n",
       "</table>\n",
       "</div>"
      ],
      "text/plain": [
       "              Date Meantemp Humidity Wind_Speed Meanpressure\n",
       "count         1472     1472     1470       1470         1470\n",
       "unique        1462      621      897        772          626\n",
       "top     2013-01-24     31.0     65.5        0.0       1016.0\n",
       "freq             2       18        9         26           13"
      ]
     },
     "execution_count": 4,
     "metadata": {},
     "output_type": "execute_result"
    }
   ],
   "source": [
    "dataset.describe()"
   ]
  },
  {
   "cell_type": "markdown",
   "metadata": {},
   "source": [
    "## Transforming the data"
   ]
  },
  {
   "cell_type": "code",
   "execution_count": 5,
   "metadata": {
    "ExecuteTime": {
     "end_time": "2021-11-28T10:54:34.474840Z",
     "start_time": "2021-11-28T10:54:34.418834Z"
    }
   },
   "outputs": [
    {
     "data": {
      "text/plain": [
       "Date            datetime64[ns]\n",
       "Meantemp               float64\n",
       "Humidity               float64\n",
       "Wind_Speed             float64\n",
       "Meanpressure           float64\n",
       "dtype: object"
      ]
     },
     "execution_count": 5,
     "metadata": {},
     "output_type": "execute_result"
    }
   ],
   "source": [
    "dataset = dataset.assign(Date = pd.to_datetime(dataset.Date),\n",
    "                        Meantemp = pd.to_numeric(dataset.Meantemp),\n",
    "                        Humidity = pd.to_numeric(dataset.Humidity),\n",
    "                        Wind_Speed = pd.to_numeric(dataset.Wind_Speed, errors='coerce'),\n",
    "                        Meanpressure = pd.to_numeric(dataset.Meanpressure))\n",
    "\n",
    "dataset.dtypes"
   ]
  },
  {
   "cell_type": "markdown",
   "metadata": {},
   "source": [
    "## Search and delete null values"
   ]
  },
  {
   "cell_type": "code",
   "execution_count": 6,
   "metadata": {
    "ExecuteTime": {
     "end_time": "2021-11-28T10:54:34.506831Z",
     "start_time": "2021-11-28T10:54:34.480835Z"
    }
   },
   "outputs": [
    {
     "data": {
      "text/plain": [
       "Date            0\n",
       "Meantemp        3\n",
       "Humidity        2\n",
       "Wind_Speed      5\n",
       "Meanpressure    2\n",
       "dtype: int64"
      ]
     },
     "execution_count": 6,
     "metadata": {},
     "output_type": "execute_result"
    }
   ],
   "source": [
    "dataset.isnull().sum()"
   ]
  },
  {
   "cell_type": "code",
   "execution_count": 7,
   "metadata": {
    "ExecuteTime": {
     "end_time": "2021-11-28T10:54:34.554834Z",
     "start_time": "2021-11-28T10:54:34.516835Z"
    }
   },
   "outputs": [
    {
     "data": {
      "text/plain": [
       "Date            0\n",
       "Meantemp        0\n",
       "Humidity        0\n",
       "Wind_Speed      0\n",
       "Meanpressure    0\n",
       "dtype: int64"
      ]
     },
     "execution_count": 7,
     "metadata": {},
     "output_type": "execute_result"
    }
   ],
   "source": [
    "dataset.dropna(inplace = True)\n",
    "dataset.isnull().sum()"
   ]
  },
  {
   "cell_type": "markdown",
   "metadata": {},
   "source": [
    "## Search for outliers"
   ]
  },
  {
   "cell_type": "code",
   "execution_count": 8,
   "metadata": {
    "ExecuteTime": {
     "end_time": "2021-11-28T10:54:35.608833Z",
     "start_time": "2021-11-28T10:54:34.572835Z"
    },
    "scrolled": true
   },
   "outputs": [
    {
     "data": {
      "image/png": "[encoded data removed]",
      "text/plain": [
       "<Figure size 1152x288 with 4 Axes>"
      ]
     },
     "metadata": {
      "needs_background": "light"
     },
     "output_type": "display_data"
    }
   ],
   "source": [
    "cols = dataset.columns[1:]\n",
    "fig, ax = plt.subplots(nrows = len(cols), ncols = 1, figsize = (16, 4), constrained_layout = True)\n",
    "colors = [\"gold\", \"darkorange\", \"orangered\", \"crimson\"]\n",
    "for i in range(len(cols)):\n",
    "    sns.boxplot(data = dataset[cols[i]], color=colors[i], ax = ax[i], orient = \"h\").set_title(cols[i])"
   ]
  },
  {
   "cell_type": "markdown",
   "metadata": {
    "ExecuteTime": {
     "end_time": "2021-11-28T10:47:30.280734Z",
     "start_time": "2021-11-28T10:47:30.271739Z"
    }
   },
   "source": [
    "## Deleting oultiers"
   ]
  },
  {
   "cell_type": "code",
   "execution_count": 9,
   "metadata": {
    "ExecuteTime": {
     "end_time": "2021-11-28T10:54:36.805833Z",
     "start_time": "2021-11-28T10:54:35.614834Z"
    },
    "scrolled": true
   },
   "outputs": [
    {
     "data": {
      "image/png": "[encoded data removed]",
      "text/plain": [
       "<Figure size 1152x288 with 4 Axes>"
      ]
     },
     "metadata": {
      "needs_background": "light"
     },
     "output_type": "display_data"
    }
   ],
   "source": [
    "def get_ranges(x):\n",
    "    sorted(x)\n",
    "    Q1, Q3 = np.percentile(x, [25, 75])\n",
    "    IQR = Q3 - Q1\n",
    "    lower_range = Q1 - (IQR * 1.5)\n",
    "    upper_range = Q3 + (IQR * 1.5)\n",
    "    #print(x.min(), lower_range, upper_range, x.max())\n",
    "    #lower_range = x.min() if lower_range < x.min() else lower_range\n",
    "    #upper_range = x.max() if upper_range > x.max() else upper_range\n",
    "    return lower_range, upper_range\n",
    "\n",
    "def check_for_outliers(column):\n",
    "    lower, higher = get_ranges(column)\n",
    "    return column.max() > higher or column.min() < lower\n",
    "\n",
    "for column_name in cols:\n",
    "    #print(column_name)\n",
    "    while check_for_outliers(dataset[column_name]):\n",
    "        low, high = get_ranges(dataset[column_name])\n",
    "        dataset = dataset[(dataset[column_name] > low) & (dataset[column_name] < high)]\n",
    "            \n",
    "dataset.reset_index(drop = True, inplace = True)\n",
    "fig, ax = plt.subplots(nrows = len(cols), ncols = 1, figsize = (16, 4), constrained_layout = True)\n",
    "colors = [\"gold\", \"darkorange\", \"orangered\", \"crimson\"]\n",
    "for i in range(len(cols)):\n",
    "    sns.boxplot(data = dataset[cols[i]], ax = ax[i], color=colors[i], orient = \"h\").set_title(cols[i])"
   ]
  },
  {
   "cell_type": "code",
   "execution_count": null,
   "metadata": {},
   "outputs": [],
   "source": []
  }
 ],
 "metadata": {
  "kernelspec": {
   "display_name": "Python 3",
   "language": "python",
   "name": "python3"
  },
  "language_info": {
   "codemirror_mode": {
    "name": "ipython",
    "version": 3
   },
   "file_extension": ".py",
   "mimetype": "text/x-python",
   "name": "python",
   "nbconvert_exporter": "python",
   "pygments_lexer": "ipython3",
   "version": "3.9.1"
  }
 },
 "nbformat": 4,
 "nbformat_minor": 4
}
